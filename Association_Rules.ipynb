{
  "cells": [
    {
      "cell_type": "code",
      "source": [
        "import pandas as pd\n",
        "from mlxtend.frequent_patterns import apriori, association_rules\n",
        "import matplotlib.pyplot as plt\n",
        "import networkx as nx\n",
        "import seaborn as sns\n",
        "\n",
        "# Load the dataset\n",
        "file_path = \"/mnt/data/Online retail.xlsx\"\n",
        "df = pd.read_excel('Online retail.xlsx')\n",
        "\n",
        "# Data Preprocessing\n",
        "df.dropna(subset=[\"InvoiceNo\", \"StockCode\", \"Description\"], inplace=True)\n",
        "df = df[df['Quantity'] > 0]\n",
        "df = df[df['InvoiceNo'].astype(str).str.startswith('C') == False]\n",
        "\n",
        "# Convert data into a suitable format for association rule mining\n",
        "basket = df.groupby(['InvoiceNo', 'Description'])['Quantity'].sum().unstack().fillna(0)\n",
        "basket = basket.applymap(lambda x: 1 if x > 0 else 0)\n",
        "\n",
        "# Apply Apriori Algorithm\n",
        "frequent_itemsets = apriori(basket, min_support=0.01, use_colnames=True)\n",
        "rules = association_rules(frequent_itemsets, metric=\"lift\", min_threshold=1)\n",
        "\n",
        "# Optimize threshold selection\n",
        "rules = rules[(rules['support'] > 0.01) & (rules['confidence'] > 0.1)]\n",
        "\n",
        "# Visualizing Top Association Rules\n",
        "plt.figure(figsize=(8, 6))\n",
        "sns.heatmap(rules[['support', 'confidence', 'lift']].corr(), annot=True, cmap='coolwarm')\n",
        "plt.title(\"Correlation between Support, Confidence, and Lift\")\n",
        "plt.show()\n",
        "\n",
        "# Network Graph Visualization\n",
        "G = nx.Graph()\n",
        "for i, row in rules.iterrows():\n",
        "    G.add_edge(row['antecedents'], row['consequents'], weight=row['lift'])\n",
        "\n",
        "plt.figure(figsize=(10, 6))\n",
        "pos = nx.spring_layout(G)\n",
        "nx.draw(G, pos, with_labels=True, node_color='lightblue', edge_color='gray', font_size=8)\n",
        "plt.title(\"Association Rules Network Graph\")\n",
        "plt.show()\n",
        "\n",
        "# Display rules\n",
        "print(rules[['antecedents', 'consequents', 'support', 'confidence', 'lift', 'conviction']])\n"
      ],
      "metadata": {
        "colab": {
          "base_uri": "https://localhost:8080/",
          "height": 349
        },
        "id": "YdGihbjR5qiN",
        "outputId": "d47e8988-a87d-4f7a-df32-0b1e2b468281"
      },
      "execution_count": null,
      "outputs": [
        {
          "output_type": "error",
          "ename": "KeyError",
          "evalue": "['InvoiceNo', 'StockCode', 'Description']",
          "traceback": [
            "\u001b[0;31m---------------------------------------------------------------------------\u001b[0m",
            "\u001b[0;31mKeyError\u001b[0m                                  Traceback (most recent call last)",
            "\u001b[0;32m<ipython-input-7-e57a898be782>\u001b[0m in \u001b[0;36m<cell line: 0>\u001b[0;34m()\u001b[0m\n\u001b[1;32m     10\u001b[0m \u001b[0;34m\u001b[0m\u001b[0m\n\u001b[1;32m     11\u001b[0m \u001b[0;31m# Data Preprocessing\u001b[0m\u001b[0;34m\u001b[0m\u001b[0;34m\u001b[0m\u001b[0m\n\u001b[0;32m---> 12\u001b[0;31m \u001b[0mdf\u001b[0m\u001b[0;34m.\u001b[0m\u001b[0mdropna\u001b[0m\u001b[0;34m(\u001b[0m\u001b[0msubset\u001b[0m\u001b[0;34m=\u001b[0m\u001b[0;34m[\u001b[0m\u001b[0;34m\"InvoiceNo\"\u001b[0m\u001b[0;34m,\u001b[0m \u001b[0;34m\"StockCode\"\u001b[0m\u001b[0;34m,\u001b[0m \u001b[0;34m\"Description\"\u001b[0m\u001b[0;34m]\u001b[0m\u001b[0;34m,\u001b[0m \u001b[0minplace\u001b[0m\u001b[0;34m=\u001b[0m\u001b[0;32mTrue\u001b[0m\u001b[0;34m)\u001b[0m\u001b[0;34m\u001b[0m\u001b[0;34m\u001b[0m\u001b[0m\n\u001b[0m\u001b[1;32m     13\u001b[0m \u001b[0mdf\u001b[0m \u001b[0;34m=\u001b[0m \u001b[0mdf\u001b[0m\u001b[0;34m[\u001b[0m\u001b[0mdf\u001b[0m\u001b[0;34m[\u001b[0m\u001b[0;34m'Quantity'\u001b[0m\u001b[0;34m]\u001b[0m \u001b[0;34m>\u001b[0m \u001b[0;36m0\u001b[0m\u001b[0;34m]\u001b[0m\u001b[0;34m\u001b[0m\u001b[0;34m\u001b[0m\u001b[0m\n\u001b[1;32m     14\u001b[0m \u001b[0mdf\u001b[0m \u001b[0;34m=\u001b[0m \u001b[0mdf\u001b[0m\u001b[0;34m[\u001b[0m\u001b[0mdf\u001b[0m\u001b[0;34m[\u001b[0m\u001b[0;34m'InvoiceNo'\u001b[0m\u001b[0;34m]\u001b[0m\u001b[0;34m.\u001b[0m\u001b[0mastype\u001b[0m\u001b[0;34m(\u001b[0m\u001b[0mstr\u001b[0m\u001b[0;34m)\u001b[0m\u001b[0;34m.\u001b[0m\u001b[0mstr\u001b[0m\u001b[0;34m.\u001b[0m\u001b[0mstartswith\u001b[0m\u001b[0;34m(\u001b[0m\u001b[0;34m'C'\u001b[0m\u001b[0;34m)\u001b[0m \u001b[0;34m==\u001b[0m \u001b[0;32mFalse\u001b[0m\u001b[0;34m]\u001b[0m\u001b[0;34m\u001b[0m\u001b[0;34m\u001b[0m\u001b[0m\n",
            "\u001b[0;32m/usr/local/lib/python3.11/dist-packages/pandas/core/frame.py\u001b[0m in \u001b[0;36mdropna\u001b[0;34m(self, axis, how, thresh, subset, inplace, ignore_index)\u001b[0m\n\u001b[1;32m   6668\u001b[0m             \u001b[0mcheck\u001b[0m \u001b[0;34m=\u001b[0m \u001b[0mindices\u001b[0m \u001b[0;34m==\u001b[0m \u001b[0;34m-\u001b[0m\u001b[0;36m1\u001b[0m\u001b[0;34m\u001b[0m\u001b[0;34m\u001b[0m\u001b[0m\n\u001b[1;32m   6669\u001b[0m             \u001b[0;32mif\u001b[0m \u001b[0mcheck\u001b[0m\u001b[0;34m.\u001b[0m\u001b[0many\u001b[0m\u001b[0;34m(\u001b[0m\u001b[0;34m)\u001b[0m\u001b[0;34m:\u001b[0m\u001b[0;34m\u001b[0m\u001b[0;34m\u001b[0m\u001b[0m\n\u001b[0;32m-> 6670\u001b[0;31m                 \u001b[0;32mraise\u001b[0m \u001b[0mKeyError\u001b[0m\u001b[0;34m(\u001b[0m\u001b[0mnp\u001b[0m\u001b[0;34m.\u001b[0m\u001b[0marray\u001b[0m\u001b[0;34m(\u001b[0m\u001b[0msubset\u001b[0m\u001b[0;34m)\u001b[0m\u001b[0;34m[\u001b[0m\u001b[0mcheck\u001b[0m\u001b[0;34m]\u001b[0m\u001b[0;34m.\u001b[0m\u001b[0mtolist\u001b[0m\u001b[0;34m(\u001b[0m\u001b[0;34m)\u001b[0m\u001b[0;34m)\u001b[0m\u001b[0;34m\u001b[0m\u001b[0;34m\u001b[0m\u001b[0m\n\u001b[0m\u001b[1;32m   6671\u001b[0m             \u001b[0magg_obj\u001b[0m \u001b[0;34m=\u001b[0m \u001b[0mself\u001b[0m\u001b[0;34m.\u001b[0m\u001b[0mtake\u001b[0m\u001b[0;34m(\u001b[0m\u001b[0mindices\u001b[0m\u001b[0;34m,\u001b[0m \u001b[0maxis\u001b[0m\u001b[0;34m=\u001b[0m\u001b[0magg_axis\u001b[0m\u001b[0;34m)\u001b[0m\u001b[0;34m\u001b[0m\u001b[0;34m\u001b[0m\u001b[0m\n\u001b[1;32m   6672\u001b[0m \u001b[0;34m\u001b[0m\u001b[0m\n",
            "\u001b[0;31mKeyError\u001b[0m: ['InvoiceNo', 'StockCode', 'Description']"
          ]
        }
      ]
    },
    {
      "cell_type": "markdown",
      "source": [
        "## Interview Questions:\n",
        "What is lift and why is it important in Association rules?\n",
        "\n",
        "Lift is a measure of how much more likely the consequent is to occur with the antecedent than without it. It is important because it indicates the strength of the relationship between two items. A lift greater than 1 suggests that the items are positively correlated, while a lift less than 1 suggests a negative correlation.\n",
        "What is support and confidence? How do you calculate them?\n",
        "\n",
        "Support is the proportion of transactions that contain both the antecedent and consequent items. It is calculated as:\n",
        "Support\n",
        "=\n",
        "Number of transactions containing both items\n",
        "Total number of transactions\n",
        "Support=\n",
        "Total number of transactions\n",
        "Number of transactions containing both items\n",
        "​\n",
        "\n",
        "Confidence is the probability that the consequent item is purchased when the antecedent item is purchased. It is calculated as:\n",
        "Confidence\n",
        "=\n",
        "Support of antecedent and consequent\n",
        "Support of antecedent\n",
        "Confidence=\n",
        "Support of antecedent\n",
        "Support of antecedent and consequent\n",
        "​\n",
        "\n",
        "What are some limitations or challenges of Association rules mining?\n",
        "\n",
        "Scalability: The algorithm can be computationally expensive, especially for large datasets with many items.\n",
        "Quality of Rules: Association rule mining can generate a large number of rules, many of which might not be meaningful or actionable.\n",
        "Threshold Selection: The choice of thresholds for support, confidence, and lift can greatly impact the results. Setting them too high might miss important relationships, while setting them too low might generate too many irrelevant rules.\n",
        "Interpretability: Some rules might be difficult to interpret or may not provide clear actionable insights."
      ],
      "metadata": {
        "id": "f2pe4Qiy5mXj"
      }
    }
  ],
  "metadata": {
    "kernelspec": {
      "display_name": "Python 3",
      "language": "python",
      "name": "python3"
    },
    "language_info": {
      "codemirror_mode": {
        "name": "ipython",
        "version": 3
      },
      "file_extension": ".py",
      "mimetype": "text/x-python",
      "name": "python",
      "nbconvert_exporter": "python",
      "pygments_lexer": "ipython3",
      "version": "3.7.4"
    },
    "colab": {
      "provenance": []
    }
  },
  "nbformat": 4,
  "nbformat_minor": 0
}