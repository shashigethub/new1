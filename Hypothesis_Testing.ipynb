{
  "nbformat": 4,
  "nbformat_minor": 0,
  "metadata": {
    "colab": {
      "provenance": []
    },
    "kernelspec": {
      "name": "python3",
      "display_name": "Python 3"
    },
    "language_info": {
      "name": "python"
    }
  },
  "cells": [
    {
      "cell_type": "markdown",
      "source": [
        "### Chisquare Test"
      ],
      "metadata": {
        "id": "jh9WTEEKGpf9"
      }
    },
    {
      "cell_type": "code",
      "execution_count": null,
      "metadata": {
        "id": "HFdA30JYGemU"
      },
      "outputs": [],
      "source": [
        "import numpy as np\n",
        "from scipy.stats import chi2_contingency, chi2"
      ]
    },
    {
      "cell_type": "code",
      "source": [
        "# Observed frequency table (contingency table)\n",
        "data = np.array([\n",
        "    [50, 70],  # Very Satisfied\n",
        "    [80, 100], # Satisfied\n",
        "    [60, 90],  # Neutral\n",
        "    [30, 50],  # Unsatisfied\n",
        "    [20, 50]   # Very Unsatisfied\n",
        "])"
      ],
      "metadata": {
        "id": "YE0delbpGyZJ"
      },
      "execution_count": null,
      "outputs": []
    },
    {
      "cell_type": "code",
      "source": [
        "# Perform the Chi-Square test for independence\n",
        "chi2_stat, p_value, dof, expected = chi2_contingency(data)"
      ],
      "metadata": {
        "id": "_r22UWJUG7Fm"
      },
      "execution_count": null,
      "outputs": []
    },
    {
      "cell_type": "code",
      "source": [
        "# Print the results\n",
        "print(f\"Chi-Square Statistic: {chi2_stat}\")\n",
        "print(f\"P-Value: {p_value}\")\n",
        "print(f\"Degrees of Freedom: {dof}\")\n",
        "print(\"Expected Frequencies:\")\n",
        "print(expected)"
      ],
      "metadata": {
        "colab": {
          "base_uri": "https://localhost:8080/"
        },
        "id": "SsEj9333G9Cm",
        "outputId": "2f81cf32-a6d0-4303-cd3e-c9ed9353f804"
      },
      "execution_count": null,
      "outputs": [
        {
          "output_type": "stream",
          "name": "stdout",
          "text": [
            "Chi-Square Statistic: 5.638227513227513\n",
            "P-Value: 0.22784371130697179\n",
            "Degrees of Freedom: 4\n",
            "Expected Frequencies:\n",
            "[[ 48.  72.]\n",
            " [ 72. 108.]\n",
            " [ 60.  90.]\n",
            " [ 32.  48.]\n",
            " [ 28.  42.]]\n"
          ]
        }
      ]
    },
    {
      "cell_type": "code",
      "source": [
        "# Critical value for alpha = 0.05 and df = 4\n",
        "alpha = 0.05\n",
        "critical_value = chi2.ppf(1 - alpha, dof)"
      ],
      "metadata": {
        "id": "tGnxCt7IHDMp"
      },
      "execution_count": null,
      "outputs": []
    },
    {
      "cell_type": "code",
      "source": [
        "# Make the decision\n",
        "if chi2_stat > critical_value:\n",
        "    print(\"\\nReject the Null Hypothesis: There is a significant association between device type and satisfaction level.\")\n",
        "else:\n",
        "    print(\"\\nFail to Reject the Null Hypothesis: There is no significant association between device type and satisfaction level.\")"
      ],
      "metadata": {
        "colab": {
          "base_uri": "https://localhost:8080/"
        },
        "id": "f4lTrkZkHHFA",
        "outputId": "3bfcf85d-376f-4121-c14e-d8216a51a4e6"
      },
      "execution_count": null,
      "outputs": [
        {
          "output_type": "stream",
          "name": "stdout",
          "text": [
            "\n",
            "Fail to Reject the Null Hypothesis: There is no significant association between device type and satisfaction level.\n"
          ]
        }
      ]
    },
    {
      "cell_type": "markdown",
      "source": [
        "### Hypothesis Testing"
      ],
      "metadata": {
        "id": "IiT_HN3DIT9M"
      }
    },
    {
      "cell_type": "code",
      "source": [
        "import math\n",
        "from scipy.stats import norm"
      ],
      "metadata": {
        "id": "bq-ISk0UIelO"
      },
      "execution_count": null,
      "outputs": []
    },
    {
      "cell_type": "code",
      "source": [
        "# Given data\n",
        "sample_mean = 3050  # Sample mean weekly cost in Rs\n",
        "X_mean = 600  # Mean number of units produced in a week\n",
        "sigma = 5 * 25  # Standard deviation of weekly costs (5 * 25 units)\n",
        "n = 25  # Sample size\n",
        "alpha = 0.05  # Significance level\n"
      ],
      "metadata": {
        "id": "jwFZKSEWJAnB"
      },
      "execution_count": null,
      "outputs": []
    },
    {
      "cell_type": "code",
      "source": [
        "# Theoretical mean weekly cost (mu) according to the cost model\n",
        "mu = 1000 + 5 * X_mean"
      ],
      "metadata": {
        "id": "CY1Vr5Q1JEFJ"
      },
      "execution_count": null,
      "outputs": []
    },
    {
      "cell_type": "code",
      "source": [
        "# Calculate the test statistic (t)\n",
        "standard_error = sigma / math.sqrt(n)\n",
        "t_statistic = (sample_mean - mu) / standard_error"
      ],
      "metadata": {
        "id": "0s7MAtYfJHkZ"
      },
      "execution_count": null,
      "outputs": []
    },
    {
      "cell_type": "code",
      "source": [
        "# Critical value for one-tailed test at alpha = 0.05 (Z-distribution)\n",
        "critical_value = norm.ppf(1 - alpha)"
      ],
      "metadata": {
        "id": "ibZ8z2BNJLLz"
      },
      "execution_count": null,
      "outputs": []
    },
    {
      "cell_type": "code",
      "source": [
        "# Print the results\n",
        "print(f\"Sample Mean (x̄): {sample_mean}\")\n",
        "print(f\"Theoretical Mean (μ): {mu}\")\n",
        "print(f\"Standard Error: {standard_error}\")\n",
        "print(f\"Test Statistic (t): {t_statistic}\")\n",
        "print(f\"Critical Value (Z) at α = 0.05: {critical_value}\")"
      ],
      "metadata": {
        "colab": {
          "base_uri": "https://localhost:8080/"
        },
        "id": "lXx65sIoJOez",
        "outputId": "a8413abd-ec2d-4b2d-f3e6-7b1b438cbd4f"
      },
      "execution_count": null,
      "outputs": [
        {
          "output_type": "stream",
          "name": "stdout",
          "text": [
            "Sample Mean (x̄): 3050\n",
            "Theoretical Mean (μ): 4000\n",
            "Standard Error: 25.0\n",
            "Test Statistic (t): -38.0\n",
            "Critical Value (Z) at α = 0.05: 1.6448536269514722\n"
          ]
        }
      ]
    },
    {
      "cell_type": "code",
      "source": [
        "# Make the decision\n",
        "if t_statistic > critical_value:\n",
        "    print(\"\\nReject the Null Hypothesis: There is strong evidence to support the claim that weekly operating costs are higher than the model suggests.\")\n",
        "else:\n",
        "    print(\"\\nFail to Reject the Null Hypothesis: There is no strong evidence to support the claim that weekly operating costs are higher than the model suggests.\")"
      ],
      "metadata": {
        "colab": {
          "base_uri": "https://localhost:8080/"
        },
        "id": "wLChO-7SJR7L",
        "outputId": "0b519bee-8f07-4630-8ae5-a4b6d65d74da"
      },
      "execution_count": null,
      "outputs": [
        {
          "output_type": "stream",
          "name": "stdout",
          "text": [
            "\n",
            "Fail to Reject the Null Hypothesis: There is no strong evidence to support the claim that weekly operating costs are higher than the model suggests.\n"
          ]
        }
      ]
    }
  ]
}