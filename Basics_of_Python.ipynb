{
  "nbformat": 4,
  "nbformat_minor": 0,
  "metadata": {
    "colab": {
      "provenance": []
    },
    "kernelspec": {
      "name": "python3",
      "display_name": "Python 3"
    },
    "language_info": {
      "name": "python"
    }
  },
  "cells": [
    {
      "cell_type": "markdown",
      "source": [
        "Exercise 1: Prime Numbers\n",
        "Write a Python program that checks whether a given number is prime or not. A prime number is a natural number greater than 1 that has no positive divisors other than 1 and itself.\n"
      ],
      "metadata": {
        "id": "veVPi7iECs1-"
      }
    },
    {
      "cell_type": "code",
      "execution_count": null,
      "metadata": {
        "colab": {
          "base_uri": "https://localhost:8080/"
        },
        "id": "PTNEGjClCoaT",
        "outputId": "271329c7-28e7-492a-b6e5-f007e442313b"
      },
      "outputs": [
        {
          "output_type": "stream",
          "name": "stdout",
          "text": [
            "Enter a number: 5\n",
            "5 is prime: True\n"
          ]
        }
      ],
      "source": [
        "def is_prime(n):\n",
        "    if n < 2:\n",
        "        return False\n",
        "    for i in range(2, int(n ** 0.5) + 1):\n",
        "        if n % i == 0:\n",
        "            return False\n",
        "    return True\n",
        "\n",
        "# Test\n",
        "num = int(input(\"Enter a number: \"))\n",
        "print(f\"{num} is prime: {is_prime(num)}\")\n"
      ]
    },
    {
      "cell_type": "markdown",
      "source": [
        "Exercise 2: Product of Random Numbers\n",
        "Develop a Python program that generates two random numbers and asks the user to enter the product of these numbers. The program should then check if the user's answer is correct and display an appropriate message.\n"
      ],
      "metadata": {
        "id": "fXqg1TEcC52y"
      }
    },
    {
      "cell_type": "code",
      "source": [
        "import random\n",
        "\n",
        "# Generate two random numbers\n",
        "num1 = random.randint(1, 10)\n",
        "num2 = random.randint(1, 10)\n",
        "\n",
        "# Ask user for input\n",
        "user_answer = int(input(f\"What is the product of {num1} and {num2}? \"))\n",
        "\n",
        "# Check answer\n",
        "if user_answer == num1 * num2:\n",
        "    print(\"Correct! 🎉\")\n",
        "else:\n",
        "    print(f\"Wrong! The correct answer is {num1 * num2}.\")\n"
      ],
      "metadata": {
        "colab": {
          "base_uri": "https://localhost:8080/"
        },
        "id": "fkiuptm-DylQ",
        "outputId": "7b77581b-9a85-4781-de50-828df9068932"
      },
      "execution_count": null,
      "outputs": [
        {
          "output_type": "stream",
          "name": "stdout",
          "text": [
            "What is the product of 3 and 3? 9\n",
            "Correct! 🎉\n"
          ]
        }
      ]
    },
    {
      "cell_type": "markdown",
      "source": [
        "Exercise 3: Squares of Even/Odd Numbers\n",
        "Create a Python script that prints the squares of all even or odd numbers within the range of 100 to 200. Choose either even or odd numbers and document your choice in the code.\n"
      ],
      "metadata": {
        "id": "xg7VOHSNC5zW"
      }
    },
    {
      "cell_type": "code",
      "source": [
        "# Printing squares of even numbers from 100 to 200\n",
        "for num in range(100, 201):\n",
        "    if num % 2 == 0:\n",
        "        print(f\"{num} squared is {num ** 2}\")\n"
      ],
      "metadata": {
        "colab": {
          "base_uri": "https://localhost:8080/"
        },
        "id": "iar_38ttEYge",
        "outputId": "b15842b4-9869-47eb-9691-c17ad0f5d15d"
      },
      "execution_count": null,
      "outputs": [
        {
          "output_type": "stream",
          "name": "stdout",
          "text": [
            "100 squared is 10000\n",
            "102 squared is 10404\n",
            "104 squared is 10816\n",
            "106 squared is 11236\n",
            "108 squared is 11664\n",
            "110 squared is 12100\n",
            "112 squared is 12544\n",
            "114 squared is 12996\n",
            "116 squared is 13456\n",
            "118 squared is 13924\n",
            "120 squared is 14400\n",
            "122 squared is 14884\n",
            "124 squared is 15376\n",
            "126 squared is 15876\n",
            "128 squared is 16384\n",
            "130 squared is 16900\n",
            "132 squared is 17424\n",
            "134 squared is 17956\n",
            "136 squared is 18496\n",
            "138 squared is 19044\n",
            "140 squared is 19600\n",
            "142 squared is 20164\n",
            "144 squared is 20736\n",
            "146 squared is 21316\n",
            "148 squared is 21904\n",
            "150 squared is 22500\n",
            "152 squared is 23104\n",
            "154 squared is 23716\n",
            "156 squared is 24336\n",
            "158 squared is 24964\n",
            "160 squared is 25600\n",
            "162 squared is 26244\n",
            "164 squared is 26896\n",
            "166 squared is 27556\n",
            "168 squared is 28224\n",
            "170 squared is 28900\n",
            "172 squared is 29584\n",
            "174 squared is 30276\n",
            "176 squared is 30976\n",
            "178 squared is 31684\n",
            "180 squared is 32400\n",
            "182 squared is 33124\n",
            "184 squared is 33856\n",
            "186 squared is 34596\n",
            "188 squared is 35344\n",
            "190 squared is 36100\n",
            "192 squared is 36864\n",
            "194 squared is 37636\n",
            "196 squared is 38416\n",
            "198 squared is 39204\n",
            "200 squared is 40000\n"
          ]
        }
      ]
    },
    {
      "cell_type": "markdown",
      "source": [
        "Exercise 4: Word counter\n",
        "write a program to count the number of words in a given text.\n",
        "example:\n",
        "input_text = \"This is a sample text. This text will be used to demonstrate the word counter.\"\n",
        "Expected output:\n",
        "'This': 2\n",
        "'is': 1\n",
        "'a': 1\n",
        "'sample': 1\n",
        "'text.': 1\n"
      ],
      "metadata": {
        "id": "RFPsgnnFEqqN"
      }
    },
    {
      "cell_type": "code",
      "source": [
        "from collections import Counter\n",
        "\n",
        "def word_counter(text):\n",
        "    words = text.split()\n",
        "    word_counts = Counter(words)\n",
        "    for word, count in word_counts.items():\n",
        "        print(f\"'{word}': {count}\")\n",
        "\n",
        "# Example usage\n",
        "input_text = \"This is a sample text. This text will be used to demonstrate the word counter.\"\n",
        "word_counter(input_text)\n"
      ],
      "metadata": {
        "colab": {
          "base_uri": "https://localhost:8080/"
        },
        "id": "6uLN2sDyE2AM",
        "outputId": "5d5fd2d8-be1d-4d06-ebe7-8559a090ece2"
      },
      "execution_count": null,
      "outputs": [
        {
          "output_type": "stream",
          "name": "stdout",
          "text": [
            "'This': 2\n",
            "'is': 1\n",
            "'a': 1\n",
            "'sample': 1\n",
            "'text.': 1\n",
            "'text': 1\n",
            "'will': 1\n",
            "'be': 1\n",
            "'used': 1\n",
            "'to': 1\n",
            "'demonstrate': 1\n",
            "'the': 1\n",
            "'word': 1\n",
            "'counter.': 1\n"
          ]
        }
      ]
    },
    {
      "cell_type": "markdown",
      "source": [
        "Exercise 5: Check for Palindrome\n",
        "Write a Python function called is_palindrome that takes a string as input and returns True if the string is a palindrome, and False otherwise. A palindrome is a word, phrase, number, or other sequence of characters that reads the same forward and backward, ignoring spaces, punctuation, and capitalization.\n",
        "Example:\n",
        "Input: \"racecar\"\n",
        "Expected Output: True\n"
      ],
      "metadata": {
        "id": "XbZAVphwE-Ih"
      }
    },
    {
      "cell_type": "code",
      "source": [
        "import re\n",
        "\n",
        "def is_palindrome(s):\n",
        "    s = re.sub(r'[^a-zA-Z0-9]', '', s).lower()  # Remove punctuation and spaces, convert to lowercase\n",
        "    return s == s[::-1]\n",
        "\n",
        "# Test\n",
        "word = input(\"Enter a word: \")\n",
        "print(f\"Is '{word}' a palindrome? {is_palindrome(word)}\")\n"
      ],
      "metadata": {
        "colab": {
          "base_uri": "https://localhost:8080/"
        },
        "id": "G5dquTR0FIGt",
        "outputId": "797e7c10-d2c7-4f18-e57b-e4fe413f674c"
      },
      "execution_count": null,
      "outputs": [
        {
          "output_type": "stream",
          "name": "stdout",
          "text": [
            "Enter a word: madam\n",
            "Is 'madam' a palindrome? True\n"
          ]
        }
      ]
    }
  ]
}