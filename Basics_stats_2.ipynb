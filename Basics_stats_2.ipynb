{
  "nbformat": 4,
  "nbformat_minor": 0,
  "metadata": {
    "colab": {
      "provenance": []
    },
    "kernelspec": {
      "name": "python3",
      "display_name": "Python 3"
    },
    "language_info": {
      "name": "python"
    }
  },
  "cells": [
    {
      "cell_type": "code",
      "execution_count": 1,
      "metadata": {
        "colab": {
          "base_uri": "https://localhost:8080/"
        },
        "id": "AeA6QyHdThQA",
        "outputId": "231ee71b-ead9-4b84-cd33-e8c9fd30b036"
      },
      "outputs": [
        {
          "output_type": "stream",
          "name": "stdout",
          "text": [
            "99% Confidence Interval using Sample Standard Deviation: (1.0902, 1.3871)\n",
            "99% Confidence Interval using Known Population Standard Deviation: (1.1057, 1.3717)\n"
          ]
        }
      ],
      "source": [
        "import numpy as np\n",
        "import scipy.stats as stats\n",
        "\n",
        "# Given sample data\n",
        "data = np.array([1.13, 1.55, 1.43, 0.92, 1.25, 1.36, 1.32, 0.85, 1.07, 1.48, 1.20, 1.33, 1.18, 1.22, 1.29])\n",
        "n = len(data)\n",
        "mean_sample = np.mean(data)\n",
        "sd_sample = np.std(data, ddof=1)  # Sample standard deviation\n",
        "\n",
        "# ================================\n",
        "# 🚀 a. 99% Confidence Interval using Sample Standard Deviation (t-distribution)\n",
        "# ================================\n",
        "\n",
        "confidence_level = 0.99\n",
        "t_critical = stats.t.ppf((1 + confidence_level) / 2, df=n-1)\n",
        "margin_of_error_t = t_critical * (sd_sample / np.sqrt(n))\n",
        "ci_lower_t = mean_sample - margin_of_error_t\n",
        "ci_upper_t = mean_sample + margin_of_error_t\n",
        "\n",
        "print(f\"99% Confidence Interval using Sample Standard Deviation: ({ci_lower_t:.4f}, {ci_upper_t:.4f})\")\n",
        "\n",
        "# Explanation:\n",
        "# - We use the t-distribution because the population standard deviation is unknown.\n",
        "# - The critical value is obtained from the t-distribution table with n-1 degrees of freedom.\n",
        "# - The margin of error is calculated as: t_critical * (sample_std / sqrt(n)).\n",
        "\n",
        "# ================================\n",
        "# 🚀 b. 99% Confidence Interval using Known Population Standard Deviation (z-distribution)\n",
        "# ================================\n",
        "\n",
        "pop_std = 0.2  # Given population standard deviation\n",
        "z_critical = stats.norm.ppf((1 + confidence_level) / 2)\n",
        "margin_of_error_z = z_critical * (pop_std / np.sqrt(n))\n",
        "ci_lower_z = mean_sample - margin_of_error_z\n",
        "ci_upper_z = mean_sample + margin_of_error_z\n",
        "\n",
        "print(f\"99% Confidence Interval using Known Population Standard Deviation: ({ci_lower_z:.4f}, {ci_upper_z:.4f})\")\n",
        "\n",
        "# Explanation:\n",
        "# - Since the population standard deviation is known, we use the z-distribution.\n",
        "# - The critical value is obtained from the standard normal (z) table.\n",
        "# - The margin of error is calculated as: z_critical * (pop_std / sqrt(n))."
      ]
    }
  ]
}